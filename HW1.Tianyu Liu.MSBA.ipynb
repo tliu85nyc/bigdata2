{
 "cells": [
  {
   "cell_type": "code",
   "execution_count": 1,
   "metadata": {},
   "outputs": [],
   "source": [
    "S = 'The Manhattan campus of Fordham Gabelli Business School is located near the Lincoln Center'\n",
    "S2 = S.lower().replace(' ', '').strip()\n",
    "d = {}"
   ]
  },
  {
   "cell_type": "code",
   "execution_count": 2,
   "metadata": {},
   "outputs": [],
   "source": [
    "for i in S2:\n",
    "    if i in d:\n",
    "        d[i] += 1\n",
    "    else:\n",
    "        d[i] = 1\n",
    "lst = []"
   ]
  },
  {
   "cell_type": "code",
   "execution_count": 3,
   "metadata": {},
   "outputs": [],
   "source": [
    "for x,y in d.items():\n",
    "    lst.append((x,y))"
   ]
  },
  {
   "cell_type": "code",
   "execution_count": 4,
   "metadata": {},
   "outputs": [
    {
     "name": "stdout",
     "output_type": "stream",
     "text": [
      "x= (('t', 6), ('h', 5), ('e', 8), ('m', 3), ('a', 8), ('n', 7), ('c', 5), ('p', 1), ('u', 2), ('s', 6), ('o', 6), ('f', 2), ('r', 3), ('d', 2), ('g', 1), ('b', 2), ('l', 6), ('i', 4))\n"
     ]
    }
   ],
   "source": [
    "print(\"x=\",tuple(lst))"
   ]
  },
  {
   "cell_type": "code",
   "execution_count": null,
   "metadata": {},
   "outputs": [],
   "source": []
  }
 ],
 "metadata": {
  "kernelspec": {
   "display_name": "Python 3",
   "language": "python",
   "name": "python3"
  },
  "language_info": {
   "codemirror_mode": {
    "name": "ipython",
    "version": 3
   },
   "file_extension": ".py",
   "mimetype": "text/x-python",
   "name": "python",
   "nbconvert_exporter": "python",
   "pygments_lexer": "ipython3",
   "version": "3.8.3"
  }
 },
 "nbformat": 4,
 "nbformat_minor": 4
}
